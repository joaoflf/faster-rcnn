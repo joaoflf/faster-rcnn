{
 "cells": [
  {
   "cell_type": "code",
   "execution_count": 1,
   "metadata": {},
   "outputs": [],
   "source": [
    "from dataloaders.voc_2007 import VOC2007DataLoader\n",
    "import torchvision"
   ]
  },
  {
   "cell_type": "code",
   "execution_count": 4,
   "metadata": {},
   "outputs": [
    {
     "name": "stdout",
     "output_type": "stream",
     "text": [
      "Using downloaded and verified file: ./dataloaders/datasets/voc2007/VOCtrainval_06-Nov-2007.tar\n"
     ]
    }
   ],
   "source": [
    "dataloader = VOC2007DataLoader()\n",
    "\n"
   ]
  },
  {
   "cell_type": "code",
   "execution_count": 5,
   "metadata": {},
   "outputs": [
    {
     "name": "stdout",
     "output_type": "stream",
     "text": [
      "{'annotation': {'folder': ['VOC2007'], 'filename': ['001661.jpg'], 'source': {'database': ['The VOC2007 Database'], 'annotation': ['PASCAL VOC2007'], 'image': ['flickr'], 'flickrid': ['327338657']}, 'owner': {'flickrid': ['Mike Cloom'], 'name': ['Michel Iten']}, 'size': {'width': ['500'], 'height': ['375'], 'depth': ['3']}, 'segmented': ['0'], 'object': {'name': ['sheep'], 'pose': ['Left'], 'truncated': ['0'], 'difficult': ['0'], 'bndbox': {'xmin': ['107'], 'ymin': ['199'], 'xmax': ['330'], 'ymax': ['374']}}}}\n"
     ]
    }
   ],
   "source": [
    "dataiter = iter(dataloader.train)\n",
    "images, target = dataiter.next()\n",
    "print(target)\n"
   ]
  }
 ],
 "metadata": {
  "kernelspec": {
   "display_name": "ml",
   "language": "python",
   "name": "ml"
  },
  "language_info": {
   "codemirror_mode": {
    "name": "ipython",
    "version": 3
   },
   "file_extension": ".py",
   "mimetype": "text/x-python",
   "name": "python",
   "nbconvert_exporter": "python",
   "pygments_lexer": "ipython3",
   "version": "3.6.8"
  }
 },
 "nbformat": 4,
 "nbformat_minor": 2
}
